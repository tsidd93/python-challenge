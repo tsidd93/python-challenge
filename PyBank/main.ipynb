{
 "cells": [
  {
   "cell_type": "code",
   "execution_count": 28,
   "metadata": {},
   "outputs": [],
   "source": [
    "#import dependencies\n",
    "import pandas as pd\n",
    "from pathlib import Path"
   ]
  },
  {
   "cell_type": "code",
   "execution_count": 29,
   "metadata": {},
   "outputs": [],
   "source": [
    "#define csv file path for df\n",
    "csvpath = Path(\"Resources/budget_data.csv\")"
   ]
  },
  {
   "cell_type": "code",
   "execution_count": 30,
   "metadata": {},
   "outputs": [],
   "source": [
    "#create data frame\n",
    "df = pd.read_csv(csvpath)"
   ]
  },
  {
   "cell_type": "code",
   "execution_count": 31,
   "metadata": {},
   "outputs": [
    {
     "data": {
      "text/html": [
       "<div>\n",
       "<style scoped>\n",
       "    .dataframe tbody tr th:only-of-type {\n",
       "        vertical-align: middle;\n",
       "    }\n",
       "\n",
       "    .dataframe tbody tr th {\n",
       "        vertical-align: top;\n",
       "    }\n",
       "\n",
       "    .dataframe thead th {\n",
       "        text-align: right;\n",
       "    }\n",
       "</style>\n",
       "<table border=\"1\" class=\"dataframe\">\n",
       "  <thead>\n",
       "    <tr style=\"text-align: right;\">\n",
       "      <th></th>\n",
       "      <th>Date</th>\n",
       "      <th>Profit/Losses</th>\n",
       "    </tr>\n",
       "  </thead>\n",
       "  <tbody>\n",
       "    <tr>\n",
       "      <th>0</th>\n",
       "      <td>Jan-10</td>\n",
       "      <td>1088983</td>\n",
       "    </tr>\n",
       "    <tr>\n",
       "      <th>1</th>\n",
       "      <td>Feb-10</td>\n",
       "      <td>-354534</td>\n",
       "    </tr>\n",
       "    <tr>\n",
       "      <th>2</th>\n",
       "      <td>Mar-10</td>\n",
       "      <td>276622</td>\n",
       "    </tr>\n",
       "    <tr>\n",
       "      <th>3</th>\n",
       "      <td>Apr-10</td>\n",
       "      <td>-728133</td>\n",
       "    </tr>\n",
       "    <tr>\n",
       "      <th>4</th>\n",
       "      <td>May-10</td>\n",
       "      <td>852993</td>\n",
       "    </tr>\n",
       "  </tbody>\n",
       "</table>\n",
       "</div>"
      ],
      "text/plain": [
       "     Date  Profit/Losses\n",
       "0  Jan-10        1088983\n",
       "1  Feb-10        -354534\n",
       "2  Mar-10         276622\n",
       "3  Apr-10        -728133\n",
       "4  May-10         852993"
      ]
     },
     "execution_count": 31,
     "metadata": {},
     "output_type": "execute_result"
    }
   ],
   "source": [
    "df.head()"
   ]
  },
  {
   "cell_type": "code",
   "execution_count": 32,
   "metadata": {},
   "outputs": [
    {
     "name": "stdout",
     "output_type": "stream",
     "text": [
      "Financial Analysis\n",
      "----------------------------\n",
      "Total Months: 86\n",
      "Total: $22564198\n",
      "Average Change: $-8311.11\n",
      "Greatest Increase in Profits: Aug-16 ($1862002)\n",
      "Greatest Decrease in Profits: Feb-14 ($-1825558)\n",
      "\n"
     ]
    },
    {
     "data": {
      "text/plain": [
       "WindowsPath('Analysis/financial_analysis.txt')"
      ]
     },
     "execution_count": 32,
     "metadata": {},
     "output_type": "execute_result"
    }
   ],
   "source": [
    "#total months\n",
    "total_months = df['Date'].nunique()\n",
    "\n",
    "#net total P/L\n",
    "net_total = df['Profit/Losses'].sum()\n",
    "\n",
    "#net changes\n",
    "df['Net_Change'] = df['Profit/Losses'].diff()\n",
    "\n",
    "#avg of net changes disregarding the first row\n",
    "avg_change = df['Net_Change'][1:].mean()\n",
    "\n",
    "#greatest increase\n",
    "greatest_increase = df.loc[df['Net_Change'].idxmax()]\n",
    "\n",
    "#greatest decrease\n",
    "greatest_decrease = df.loc[df['Net_Change'].idxmin()]\n",
    "\n",
    "#format results\n",
    "financial_analysis = (\n",
    "    f\"Financial Analysis\\n\"\n",
    "    f\"----------------------------\\n\"\n",
    "    f\"Total Months: {total_months}\\n\"\n",
    "    f\"Total: ${net_total}\\n\"\n",
    "    f\"Average Change: ${avg_change:.2f}\\n\"\n",
    "    f\"Greatest Increase in Profits: {greatest_increase['Date']} (${int(greatest_increase['Net_Change'])})\\n\"\n",
    "    f\"Greatest Decrease in Profits: {greatest_decrease['Date']} (${int(greatest_decrease['Net_Change'])})\\n\"\n",
    ")\n",
    "print(financial_analysis)"
   ]
  },
  {
   "cell_type": "code",
   "execution_count": null,
   "metadata": {},
   "outputs": [],
   "source": [
    "#output to txt file\n",
    "output_file_path = Path(\"Analysis/financial_analysis.txt\")\n",
    "with open(output_file_path, 'w') as file:\n",
    "    file.write(financial_analysis)\n",
    "\n",
    "output_file_path"
   ]
  }
 ],
 "metadata": {
  "kernelspec": {
   "display_name": "base",
   "language": "python",
   "name": "python3"
  },
  "language_info": {
   "codemirror_mode": {
    "name": "ipython",
    "version": 3
   },
   "file_extension": ".py",
   "mimetype": "text/x-python",
   "name": "python",
   "nbconvert_exporter": "python",
   "pygments_lexer": "ipython3",
   "version": "3.12.4"
  }
 },
 "nbformat": 4,
 "nbformat_minor": 2
}
